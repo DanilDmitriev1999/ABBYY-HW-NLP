{
  "nbformat": 4,
  "nbformat_minor": 0,
  "metadata": {
    "colab": {
      "name": "WiC_eda.ipynb",
      "provenance": [],
      "collapsed_sections": []
    },
    "kernelspec": {
      "display_name": "Python 3",
      "name": "python3"
    },
    "widgets": {
      "application/vnd.jupyter.widget-state+json": {
        "498fc2f3b6d04f21a20d6fd365a719d3": {
          "model_module": "@jupyter-widgets/controls",
          "model_name": "HBoxModel",
          "state": {
            "_view_name": "HBoxView",
            "_dom_classes": [],
            "_model_name": "HBoxModel",
            "_view_module": "@jupyter-widgets/controls",
            "_model_module_version": "1.5.0",
            "_view_count": null,
            "_view_module_version": "1.5.0",
            "box_style": "",
            "layout": "IPY_MODEL_9dd879086bd24afb84817d48e4a6a71d",
            "_model_module": "@jupyter-widgets/controls",
            "children": [
              "IPY_MODEL_0367a1a6ea2d4ccdaa11282951765a0d",
              "IPY_MODEL_54f2e071cd5348f6a1130bc186ca8cf4"
            ]
          }
        },
        "9dd879086bd24afb84817d48e4a6a71d": {
          "model_module": "@jupyter-widgets/base",
          "model_name": "LayoutModel",
          "state": {
            "_view_name": "LayoutView",
            "grid_template_rows": null,
            "right": null,
            "justify_content": null,
            "_view_module": "@jupyter-widgets/base",
            "overflow": null,
            "_model_module_version": "1.2.0",
            "_view_count": null,
            "flex_flow": null,
            "width": null,
            "min_width": null,
            "border": null,
            "align_items": null,
            "bottom": null,
            "_model_module": "@jupyter-widgets/base",
            "top": null,
            "grid_column": null,
            "overflow_y": null,
            "overflow_x": null,
            "grid_auto_flow": null,
            "grid_area": null,
            "grid_template_columns": null,
            "flex": null,
            "_model_name": "LayoutModel",
            "justify_items": null,
            "grid_row": null,
            "max_height": null,
            "align_content": null,
            "visibility": null,
            "align_self": null,
            "height": null,
            "min_height": null,
            "padding": null,
            "grid_auto_rows": null,
            "grid_gap": null,
            "max_width": null,
            "order": null,
            "_view_module_version": "1.2.0",
            "grid_template_areas": null,
            "object_position": null,
            "object_fit": null,
            "grid_auto_columns": null,
            "margin": null,
            "display": null,
            "left": null
          }
        },
        "0367a1a6ea2d4ccdaa11282951765a0d": {
          "model_module": "@jupyter-widgets/controls",
          "model_name": "FloatProgressModel",
          "state": {
            "_view_name": "ProgressView",
            "style": "IPY_MODEL_973aa4f617d04217a0a15d5938fac911",
            "_dom_classes": [],
            "description": "Downloading: 100%",
            "_model_name": "FloatProgressModel",
            "bar_style": "success",
            "max": 213450,
            "_view_module": "@jupyter-widgets/controls",
            "_model_module_version": "1.5.0",
            "value": 213450,
            "_view_count": null,
            "_view_module_version": "1.5.0",
            "orientation": "horizontal",
            "min": 0,
            "description_tooltip": null,
            "_model_module": "@jupyter-widgets/controls",
            "layout": "IPY_MODEL_94910261c9224edabb054dd0c4d44183"
          }
        },
        "54f2e071cd5348f6a1130bc186ca8cf4": {
          "model_module": "@jupyter-widgets/controls",
          "model_name": "HTMLModel",
          "state": {
            "_view_name": "HTMLView",
            "style": "IPY_MODEL_199f6e3b25e749c38c56ed3912ce7757",
            "_dom_classes": [],
            "description": "",
            "_model_name": "HTMLModel",
            "placeholder": "​",
            "_view_module": "@jupyter-widgets/controls",
            "_model_module_version": "1.5.0",
            "value": " 213k/213k [00:00&lt;00:00, 1.74MB/s]",
            "_view_count": null,
            "_view_module_version": "1.5.0",
            "description_tooltip": null,
            "_model_module": "@jupyter-widgets/controls",
            "layout": "IPY_MODEL_83d8931d24ea40408ca25aedfe511c6c"
          }
        },
        "973aa4f617d04217a0a15d5938fac911": {
          "model_module": "@jupyter-widgets/controls",
          "model_name": "ProgressStyleModel",
          "state": {
            "_view_name": "StyleView",
            "_model_name": "ProgressStyleModel",
            "description_width": "initial",
            "_view_module": "@jupyter-widgets/base",
            "_model_module_version": "1.5.0",
            "_view_count": null,
            "_view_module_version": "1.2.0",
            "bar_color": null,
            "_model_module": "@jupyter-widgets/controls"
          }
        },
        "94910261c9224edabb054dd0c4d44183": {
          "model_module": "@jupyter-widgets/base",
          "model_name": "LayoutModel",
          "state": {
            "_view_name": "LayoutView",
            "grid_template_rows": null,
            "right": null,
            "justify_content": null,
            "_view_module": "@jupyter-widgets/base",
            "overflow": null,
            "_model_module_version": "1.2.0",
            "_view_count": null,
            "flex_flow": null,
            "width": null,
            "min_width": null,
            "border": null,
            "align_items": null,
            "bottom": null,
            "_model_module": "@jupyter-widgets/base",
            "top": null,
            "grid_column": null,
            "overflow_y": null,
            "overflow_x": null,
            "grid_auto_flow": null,
            "grid_area": null,
            "grid_template_columns": null,
            "flex": null,
            "_model_name": "LayoutModel",
            "justify_items": null,
            "grid_row": null,
            "max_height": null,
            "align_content": null,
            "visibility": null,
            "align_self": null,
            "height": null,
            "min_height": null,
            "padding": null,
            "grid_auto_rows": null,
            "grid_gap": null,
            "max_width": null,
            "order": null,
            "_view_module_version": "1.2.0",
            "grid_template_areas": null,
            "object_position": null,
            "object_fit": null,
            "grid_auto_columns": null,
            "margin": null,
            "display": null,
            "left": null
          }
        },
        "199f6e3b25e749c38c56ed3912ce7757": {
          "model_module": "@jupyter-widgets/controls",
          "model_name": "DescriptionStyleModel",
          "state": {
            "_view_name": "StyleView",
            "_model_name": "DescriptionStyleModel",
            "description_width": "",
            "_view_module": "@jupyter-widgets/base",
            "_model_module_version": "1.5.0",
            "_view_count": null,
            "_view_module_version": "1.2.0",
            "_model_module": "@jupyter-widgets/controls"
          }
        },
        "83d8931d24ea40408ca25aedfe511c6c": {
          "model_module": "@jupyter-widgets/base",
          "model_name": "LayoutModel",
          "state": {
            "_view_name": "LayoutView",
            "grid_template_rows": null,
            "right": null,
            "justify_content": null,
            "_view_module": "@jupyter-widgets/base",
            "overflow": null,
            "_model_module_version": "1.2.0",
            "_view_count": null,
            "flex_flow": null,
            "width": null,
            "min_width": null,
            "border": null,
            "align_items": null,
            "bottom": null,
            "_model_module": "@jupyter-widgets/base",
            "top": null,
            "grid_column": null,
            "overflow_y": null,
            "overflow_x": null,
            "grid_auto_flow": null,
            "grid_area": null,
            "grid_template_columns": null,
            "flex": null,
            "_model_name": "LayoutModel",
            "justify_items": null,
            "grid_row": null,
            "max_height": null,
            "align_content": null,
            "visibility": null,
            "align_self": null,
            "height": null,
            "min_height": null,
            "padding": null,
            "grid_auto_rows": null,
            "grid_gap": null,
            "max_width": null,
            "order": null,
            "_view_module_version": "1.2.0",
            "grid_template_areas": null,
            "object_position": null,
            "object_fit": null,
            "grid_auto_columns": null,
            "margin": null,
            "display": null,
            "left": null
          }
        },
        "b57226b7f8bf441fba2eea6fbae1dfe1": {
          "model_module": "@jupyter-widgets/controls",
          "model_name": "HBoxModel",
          "state": {
            "_view_name": "HBoxView",
            "_dom_classes": [],
            "_model_name": "HBoxModel",
            "_view_module": "@jupyter-widgets/controls",
            "_model_module_version": "1.5.0",
            "_view_count": null,
            "_view_module_version": "1.5.0",
            "box_style": "",
            "layout": "IPY_MODEL_99698a2f951748cabf3db2c31aec65e3",
            "_model_module": "@jupyter-widgets/controls",
            "children": [
              "IPY_MODEL_59ad139e95c8470f90bb1bd882d86f95",
              "IPY_MODEL_b9756f0aa810477181fcd0387101d1c6"
            ]
          }
        },
        "99698a2f951748cabf3db2c31aec65e3": {
          "model_module": "@jupyter-widgets/base",
          "model_name": "LayoutModel",
          "state": {
            "_view_name": "LayoutView",
            "grid_template_rows": null,
            "right": null,
            "justify_content": null,
            "_view_module": "@jupyter-widgets/base",
            "overflow": null,
            "_model_module_version": "1.2.0",
            "_view_count": null,
            "flex_flow": null,
            "width": null,
            "min_width": null,
            "border": null,
            "align_items": null,
            "bottom": null,
            "_model_module": "@jupyter-widgets/base",
            "top": null,
            "grid_column": null,
            "overflow_y": null,
            "overflow_x": null,
            "grid_auto_flow": null,
            "grid_area": null,
            "grid_template_columns": null,
            "flex": null,
            "_model_name": "LayoutModel",
            "justify_items": null,
            "grid_row": null,
            "max_height": null,
            "align_content": null,
            "visibility": null,
            "align_self": null,
            "height": null,
            "min_height": null,
            "padding": null,
            "grid_auto_rows": null,
            "grid_gap": null,
            "max_width": null,
            "order": null,
            "_view_module_version": "1.2.0",
            "grid_template_areas": null,
            "object_position": null,
            "object_fit": null,
            "grid_auto_columns": null,
            "margin": null,
            "display": null,
            "left": null
          }
        },
        "59ad139e95c8470f90bb1bd882d86f95": {
          "model_module": "@jupyter-widgets/controls",
          "model_name": "FloatProgressModel",
          "state": {
            "_view_name": "ProgressView",
            "style": "IPY_MODEL_4199ea564d0049268fafa25bb9264e41",
            "_dom_classes": [],
            "description": "Downloading: 100%",
            "_model_name": "FloatProgressModel",
            "bar_style": "success",
            "max": 435797,
            "_view_module": "@jupyter-widgets/controls",
            "_model_module_version": "1.5.0",
            "value": 435797,
            "_view_count": null,
            "_view_module_version": "1.5.0",
            "orientation": "horizontal",
            "min": 0,
            "description_tooltip": null,
            "_model_module": "@jupyter-widgets/controls",
            "layout": "IPY_MODEL_001ad59bc6e24def82590e051a4f338f"
          }
        },
        "b9756f0aa810477181fcd0387101d1c6": {
          "model_module": "@jupyter-widgets/controls",
          "model_name": "HTMLModel",
          "state": {
            "_view_name": "HTMLView",
            "style": "IPY_MODEL_c25ba04e00194d9a80c3c27bef692507",
            "_dom_classes": [],
            "description": "",
            "_model_name": "HTMLModel",
            "placeholder": "​",
            "_view_module": "@jupyter-widgets/controls",
            "_model_module_version": "1.5.0",
            "value": " 436k/436k [00:00&lt;00:00, 747kB/s]",
            "_view_count": null,
            "_view_module_version": "1.5.0",
            "description_tooltip": null,
            "_model_module": "@jupyter-widgets/controls",
            "layout": "IPY_MODEL_981dacd6119b4ae294c6f5c640a4b4e5"
          }
        },
        "4199ea564d0049268fafa25bb9264e41": {
          "model_module": "@jupyter-widgets/controls",
          "model_name": "ProgressStyleModel",
          "state": {
            "_view_name": "StyleView",
            "_model_name": "ProgressStyleModel",
            "description_width": "initial",
            "_view_module": "@jupyter-widgets/base",
            "_model_module_version": "1.5.0",
            "_view_count": null,
            "_view_module_version": "1.2.0",
            "bar_color": null,
            "_model_module": "@jupyter-widgets/controls"
          }
        },
        "001ad59bc6e24def82590e051a4f338f": {
          "model_module": "@jupyter-widgets/base",
          "model_name": "LayoutModel",
          "state": {
            "_view_name": "LayoutView",
            "grid_template_rows": null,
            "right": null,
            "justify_content": null,
            "_view_module": "@jupyter-widgets/base",
            "overflow": null,
            "_model_module_version": "1.2.0",
            "_view_count": null,
            "flex_flow": null,
            "width": null,
            "min_width": null,
            "border": null,
            "align_items": null,
            "bottom": null,
            "_model_module": "@jupyter-widgets/base",
            "top": null,
            "grid_column": null,
            "overflow_y": null,
            "overflow_x": null,
            "grid_auto_flow": null,
            "grid_area": null,
            "grid_template_columns": null,
            "flex": null,
            "_model_name": "LayoutModel",
            "justify_items": null,
            "grid_row": null,
            "max_height": null,
            "align_content": null,
            "visibility": null,
            "align_self": null,
            "height": null,
            "min_height": null,
            "padding": null,
            "grid_auto_rows": null,
            "grid_gap": null,
            "max_width": null,
            "order": null,
            "_view_module_version": "1.2.0",
            "grid_template_areas": null,
            "object_position": null,
            "object_fit": null,
            "grid_auto_columns": null,
            "margin": null,
            "display": null,
            "left": null
          }
        },
        "c25ba04e00194d9a80c3c27bef692507": {
          "model_module": "@jupyter-widgets/controls",
          "model_name": "DescriptionStyleModel",
          "state": {
            "_view_name": "StyleView",
            "_model_name": "DescriptionStyleModel",
            "description_width": "",
            "_view_module": "@jupyter-widgets/base",
            "_model_module_version": "1.5.0",
            "_view_count": null,
            "_view_module_version": "1.2.0",
            "_model_module": "@jupyter-widgets/controls"
          }
        },
        "981dacd6119b4ae294c6f5c640a4b4e5": {
          "model_module": "@jupyter-widgets/base",
          "model_name": "LayoutModel",
          "state": {
            "_view_name": "LayoutView",
            "grid_template_rows": null,
            "right": null,
            "justify_content": null,
            "_view_module": "@jupyter-widgets/base",
            "overflow": null,
            "_model_module_version": "1.2.0",
            "_view_count": null,
            "flex_flow": null,
            "width": null,
            "min_width": null,
            "border": null,
            "align_items": null,
            "bottom": null,
            "_model_module": "@jupyter-widgets/base",
            "top": null,
            "grid_column": null,
            "overflow_y": null,
            "overflow_x": null,
            "grid_auto_flow": null,
            "grid_area": null,
            "grid_template_columns": null,
            "flex": null,
            "_model_name": "LayoutModel",
            "justify_items": null,
            "grid_row": null,
            "max_height": null,
            "align_content": null,
            "visibility": null,
            "align_self": null,
            "height": null,
            "min_height": null,
            "padding": null,
            "grid_auto_rows": null,
            "grid_gap": null,
            "max_width": null,
            "order": null,
            "_view_module_version": "1.2.0",
            "grid_template_areas": null,
            "object_position": null,
            "object_fit": null,
            "grid_auto_columns": null,
            "margin": null,
            "display": null,
            "left": null
          }
        },
        "244a766363e1425a8797522f6a6a22da": {
          "model_module": "@jupyter-widgets/controls",
          "model_name": "HBoxModel",
          "state": {
            "_view_name": "HBoxView",
            "_dom_classes": [],
            "_model_name": "HBoxModel",
            "_view_module": "@jupyter-widgets/controls",
            "_model_module_version": "1.5.0",
            "_view_count": null,
            "_view_module_version": "1.5.0",
            "box_style": "",
            "layout": "IPY_MODEL_330ff5525b7344a4924222d2baf7b2fe",
            "_model_module": "@jupyter-widgets/controls",
            "children": [
              "IPY_MODEL_a37bd792e6e2430ea5dd83501230a4dc",
              "IPY_MODEL_41081fd7d46f4d229105f0e56a83a33e"
            ]
          }
        },
        "330ff5525b7344a4924222d2baf7b2fe": {
          "model_module": "@jupyter-widgets/base",
          "model_name": "LayoutModel",
          "state": {
            "_view_name": "LayoutView",
            "grid_template_rows": null,
            "right": null,
            "justify_content": null,
            "_view_module": "@jupyter-widgets/base",
            "overflow": null,
            "_model_module_version": "1.2.0",
            "_view_count": null,
            "flex_flow": null,
            "width": null,
            "min_width": null,
            "border": null,
            "align_items": null,
            "bottom": null,
            "_model_module": "@jupyter-widgets/base",
            "top": null,
            "grid_column": null,
            "overflow_y": null,
            "overflow_x": null,
            "grid_auto_flow": null,
            "grid_area": null,
            "grid_template_columns": null,
            "flex": null,
            "_model_name": "LayoutModel",
            "justify_items": null,
            "grid_row": null,
            "max_height": null,
            "align_content": null,
            "visibility": null,
            "align_self": null,
            "height": null,
            "min_height": null,
            "padding": null,
            "grid_auto_rows": null,
            "grid_gap": null,
            "max_width": null,
            "order": null,
            "_view_module_version": "1.2.0",
            "grid_template_areas": null,
            "object_position": null,
            "object_fit": null,
            "grid_auto_columns": null,
            "margin": null,
            "display": null,
            "left": null
          }
        },
        "a37bd792e6e2430ea5dd83501230a4dc": {
          "model_module": "@jupyter-widgets/controls",
          "model_name": "FloatProgressModel",
          "state": {
            "_view_name": "ProgressView",
            "style": "IPY_MODEL_61a3f81d33594ded9bf5059cfd5b27ef",
            "_dom_classes": [],
            "description": "Downloading: 100%",
            "_model_name": "FloatProgressModel",
            "bar_style": "success",
            "max": 29,
            "_view_module": "@jupyter-widgets/controls",
            "_model_module_version": "1.5.0",
            "value": 29,
            "_view_count": null,
            "_view_module_version": "1.5.0",
            "orientation": "horizontal",
            "min": 0,
            "description_tooltip": null,
            "_model_module": "@jupyter-widgets/controls",
            "layout": "IPY_MODEL_60f5502e4ee84f87a9f630a6bf29d6f4"
          }
        },
        "41081fd7d46f4d229105f0e56a83a33e": {
          "model_module": "@jupyter-widgets/controls",
          "model_name": "HTMLModel",
          "state": {
            "_view_name": "HTMLView",
            "style": "IPY_MODEL_6145ecc6c72a422ba0d991602ecb319a",
            "_dom_classes": [],
            "description": "",
            "_model_name": "HTMLModel",
            "placeholder": "​",
            "_view_module": "@jupyter-widgets/controls",
            "_model_module_version": "1.5.0",
            "value": " 29.0/29.0 [00:00&lt;00:00, 608B/s]",
            "_view_count": null,
            "_view_module_version": "1.5.0",
            "description_tooltip": null,
            "_model_module": "@jupyter-widgets/controls",
            "layout": "IPY_MODEL_c3e2ed29180e496084c4d8f32d02f78e"
          }
        },
        "61a3f81d33594ded9bf5059cfd5b27ef": {
          "model_module": "@jupyter-widgets/controls",
          "model_name": "ProgressStyleModel",
          "state": {
            "_view_name": "StyleView",
            "_model_name": "ProgressStyleModel",
            "description_width": "initial",
            "_view_module": "@jupyter-widgets/base",
            "_model_module_version": "1.5.0",
            "_view_count": null,
            "_view_module_version": "1.2.0",
            "bar_color": null,
            "_model_module": "@jupyter-widgets/controls"
          }
        },
        "60f5502e4ee84f87a9f630a6bf29d6f4": {
          "model_module": "@jupyter-widgets/base",
          "model_name": "LayoutModel",
          "state": {
            "_view_name": "LayoutView",
            "grid_template_rows": null,
            "right": null,
            "justify_content": null,
            "_view_module": "@jupyter-widgets/base",
            "overflow": null,
            "_model_module_version": "1.2.0",
            "_view_count": null,
            "flex_flow": null,
            "width": null,
            "min_width": null,
            "border": null,
            "align_items": null,
            "bottom": null,
            "_model_module": "@jupyter-widgets/base",
            "top": null,
            "grid_column": null,
            "overflow_y": null,
            "overflow_x": null,
            "grid_auto_flow": null,
            "grid_area": null,
            "grid_template_columns": null,
            "flex": null,
            "_model_name": "LayoutModel",
            "justify_items": null,
            "grid_row": null,
            "max_height": null,
            "align_content": null,
            "visibility": null,
            "align_self": null,
            "height": null,
            "min_height": null,
            "padding": null,
            "grid_auto_rows": null,
            "grid_gap": null,
            "max_width": null,
            "order": null,
            "_view_module_version": "1.2.0",
            "grid_template_areas": null,
            "object_position": null,
            "object_fit": null,
            "grid_auto_columns": null,
            "margin": null,
            "display": null,
            "left": null
          }
        },
        "6145ecc6c72a422ba0d991602ecb319a": {
          "model_module": "@jupyter-widgets/controls",
          "model_name": "DescriptionStyleModel",
          "state": {
            "_view_name": "StyleView",
            "_model_name": "DescriptionStyleModel",
            "description_width": "",
            "_view_module": "@jupyter-widgets/base",
            "_model_module_version": "1.5.0",
            "_view_count": null,
            "_view_module_version": "1.2.0",
            "_model_module": "@jupyter-widgets/controls"
          }
        },
        "c3e2ed29180e496084c4d8f32d02f78e": {
          "model_module": "@jupyter-widgets/base",
          "model_name": "LayoutModel",
          "state": {
            "_view_name": "LayoutView",
            "grid_template_rows": null,
            "right": null,
            "justify_content": null,
            "_view_module": "@jupyter-widgets/base",
            "overflow": null,
            "_model_module_version": "1.2.0",
            "_view_count": null,
            "flex_flow": null,
            "width": null,
            "min_width": null,
            "border": null,
            "align_items": null,
            "bottom": null,
            "_model_module": "@jupyter-widgets/base",
            "top": null,
            "grid_column": null,
            "overflow_y": null,
            "overflow_x": null,
            "grid_auto_flow": null,
            "grid_area": null,
            "grid_template_columns": null,
            "flex": null,
            "_model_name": "LayoutModel",
            "justify_items": null,
            "grid_row": null,
            "max_height": null,
            "align_content": null,
            "visibility": null,
            "align_self": null,
            "height": null,
            "min_height": null,
            "padding": null,
            "grid_auto_rows": null,
            "grid_gap": null,
            "max_width": null,
            "order": null,
            "_view_module_version": "1.2.0",
            "grid_template_areas": null,
            "object_position": null,
            "object_fit": null,
            "grid_auto_columns": null,
            "margin": null,
            "display": null,
            "left": null
          }
        }
      }
    },
    "accelerator": "GPU"
  },
  "cells": [
    {
      "cell_type": "markdown",
      "metadata": {
        "id": "6VlcyeR0wu5U"
      },
      "source": [
        "сайт соревнования Semeval-2021 Task 2: [Multilingual and Cross-lingual Word-in-Context Disambiguation](https://competitions.codalab.org/competitions/27054)"
      ]
    },
    {
      "cell_type": "code",
      "metadata": {
        "id": "Ie0bPBEZy0wN"
      },
      "source": [
        "!git clone -q  https://github.com/DanilDmitriev1999/ABBYY_HW_NLP"
      ],
      "execution_count": 1,
      "outputs": []
    },
    {
      "cell_type": "code",
      "metadata": {
        "id": "2NCoo2Gcl1Gc",
        "colab": {
          "base_uri": "https://localhost:8080/"
        },
        "outputId": "1b5aabdb-2dd2-4476-c4ff-5378b50c37d3"
      },
      "source": [
        "!pip install --upgrade -r /content/ABBYY_HW_NLP/WiC/requirements.txt"
      ],
      "execution_count": 2,
      "outputs": [
        {
          "output_type": "stream",
          "text": [
            "Collecting torchtext==0.8.1\n",
            "\u001b[?25l  Downloading https://files.pythonhosted.org/packages/13/80/046f0691b296e755ae884df3ca98033cb9afcaf287603b2b7999e94640b8/torchtext-0.8.1-cp37-cp37m-manylinux1_x86_64.whl (7.0MB)\n",
            "\u001b[K     |████████████████████████████████| 7.0MB 4.8MB/s \n",
            "\u001b[?25hCollecting torchvision==0.8.2\n",
            "\u001b[?25l  Downloading https://files.pythonhosted.org/packages/94/df/969e69a94cff1c8911acb0688117f95e1915becc1e01c73e7960a2c76ec8/torchvision-0.8.2-cp37-cp37m-manylinux1_x86_64.whl (12.8MB)\n",
            "\u001b[K     |████████████████████████████████| 12.8MB 203kB/s \n",
            "\u001b[?25hCollecting torch==1.7.1\n",
            "\u001b[?25l  Downloading https://files.pythonhosted.org/packages/90/5d/095ddddc91c8a769a68c791c019c5793f9c4456a688ddd235d6670924ecb/torch-1.7.1-cp37-cp37m-manylinux1_x86_64.whl (776.8MB)\n",
            "\u001b[K     |████████████████████████████████| 776.8MB 23kB/s \n",
            "\u001b[?25hCollecting pytorch-lightning==1.1.6\n",
            "\u001b[?25l  Downloading https://files.pythonhosted.org/packages/c3/3d/fffaf4f83633552249a40d3d366f460f44539bce0592c568d8ee20d782fa/pytorch_lightning-1.1.6-py3-none-any.whl (687kB)\n",
            "\u001b[K     |████████████████████████████████| 696kB 46.8MB/s \n",
            "\u001b[?25hCollecting transformers\n",
            "\u001b[?25l  Downloading https://files.pythonhosted.org/packages/b0/9e/5b80becd952d5f7250eaf8fc64b957077b12ccfe73e9c03d37146ab29712/transformers-4.6.0-py3-none-any.whl (2.3MB)\n",
            "\u001b[K     |████████████████████████████████| 2.3MB 49.1MB/s \n",
            "\u001b[?25hCollecting sentencepiece\n",
            "\u001b[?25l  Downloading https://files.pythonhosted.org/packages/f5/99/e0808cb947ba10f575839c43e8fafc9cc44e4a7a2c8f79c60db48220a577/sentencepiece-0.1.95-cp37-cp37m-manylinux2014_x86_64.whl (1.2MB)\n",
            "\u001b[K     |████████████████████████████████| 1.2MB 40.6MB/s \n",
            "\u001b[?25hCollecting scikit-learn\n",
            "\u001b[?25l  Downloading https://files.pythonhosted.org/packages/a8/eb/a48f25c967526b66d5f1fa7a984594f0bf0a5afafa94a8c4dbc317744620/scikit_learn-0.24.2-cp37-cp37m-manylinux2010_x86_64.whl (22.3MB)\n",
            "\u001b[K     |████████████████████████████████| 22.3MB 98kB/s \n",
            "\u001b[?25hRequirement already satisfied, skipping upgrade: tqdm in /usr/local/lib/python3.7/dist-packages (from torchtext==0.8.1->-r /content/ABBYY_HW_NLP/WiC/requirements.txt (line 1)) (4.41.1)\n",
            "Requirement already satisfied, skipping upgrade: numpy in /usr/local/lib/python3.7/dist-packages (from torchtext==0.8.1->-r /content/ABBYY_HW_NLP/WiC/requirements.txt (line 1)) (1.19.5)\n",
            "Requirement already satisfied, skipping upgrade: requests in /usr/local/lib/python3.7/dist-packages (from torchtext==0.8.1->-r /content/ABBYY_HW_NLP/WiC/requirements.txt (line 1)) (2.23.0)\n",
            "Requirement already satisfied, skipping upgrade: pillow>=4.1.1 in /usr/local/lib/python3.7/dist-packages (from torchvision==0.8.2->-r /content/ABBYY_HW_NLP/WiC/requirements.txt (line 2)) (7.1.2)\n",
            "Requirement already satisfied, skipping upgrade: typing-extensions in /usr/local/lib/python3.7/dist-packages (from torch==1.7.1->-r /content/ABBYY_HW_NLP/WiC/requirements.txt (line 3)) (3.7.4.3)\n",
            "Collecting PyYAML!=5.4.*,>=5.1\n",
            "\u001b[?25l  Downloading https://files.pythonhosted.org/packages/64/c2/b80047c7ac2478f9501676c988a5411ed5572f35d1beff9cae07d321512c/PyYAML-5.3.1.tar.gz (269kB)\n",
            "\u001b[K     |████████████████████████████████| 276kB 49.2MB/s \n",
            "\u001b[?25hCollecting future>=0.17.1\n",
            "\u001b[?25l  Downloading https://files.pythonhosted.org/packages/45/0b/38b06fd9b92dc2b68d58b75f900e97884c45bedd2ff83203d933cf5851c9/future-0.18.2.tar.gz (829kB)\n",
            "\u001b[K     |████████████████████████████████| 829kB 38.6MB/s \n",
            "\u001b[?25hCollecting fsspec[http]>=0.8.1\n",
            "\u001b[?25l  Downloading https://files.pythonhosted.org/packages/e9/91/2ef649137816850fa4f4c97c6f2eabb1a79bf0aa2c8ed198e387e373455e/fsspec-2021.4.0-py3-none-any.whl (108kB)\n",
            "\u001b[K     |████████████████████████████████| 112kB 40.3MB/s \n",
            "\u001b[?25hRequirement already satisfied, skipping upgrade: tensorboard>=2.2.0 in /usr/local/lib/python3.7/dist-packages (from pytorch-lightning==1.1.6->-r /content/ABBYY_HW_NLP/WiC/requirements.txt (line 4)) (2.4.1)\n",
            "Collecting huggingface-hub==0.0.8\n",
            "  Downloading https://files.pythonhosted.org/packages/a1/88/7b1e45720ecf59c6c6737ff332f41c955963090a18e72acbcbeac6b25e86/huggingface_hub-0.0.8-py3-none-any.whl\n",
            "Requirement already satisfied, skipping upgrade: regex!=2019.12.17 in /usr/local/lib/python3.7/dist-packages (from transformers->-r /content/ABBYY_HW_NLP/WiC/requirements.txt (line 5)) (2019.12.20)\n",
            "Collecting tokenizers<0.11,>=0.10.1\n",
            "\u001b[?25l  Downloading https://files.pythonhosted.org/packages/ae/04/5b870f26a858552025a62f1649c20d29d2672c02ff3c3fb4c688ca46467a/tokenizers-0.10.2-cp37-cp37m-manylinux2010_x86_64.whl (3.3MB)\n",
            "\u001b[K     |████████████████████████████████| 3.3MB 47.7MB/s \n",
            "\u001b[?25hCollecting sacremoses\n",
            "\u001b[?25l  Downloading https://files.pythonhosted.org/packages/75/ee/67241dc87f266093c533a2d4d3d69438e57d7a90abb216fa076e7d475d4a/sacremoses-0.0.45-py3-none-any.whl (895kB)\n",
            "\u001b[K     |████████████████████████████████| 901kB 40.5MB/s \n",
            "\u001b[?25hRequirement already satisfied, skipping upgrade: importlib-metadata; python_version < \"3.8\" in /usr/local/lib/python3.7/dist-packages (from transformers->-r /content/ABBYY_HW_NLP/WiC/requirements.txt (line 5)) (4.0.1)\n",
            "Requirement already satisfied, skipping upgrade: filelock in /usr/local/lib/python3.7/dist-packages (from transformers->-r /content/ABBYY_HW_NLP/WiC/requirements.txt (line 5)) (3.0.12)\n",
            "Requirement already satisfied, skipping upgrade: packaging in /usr/local/lib/python3.7/dist-packages (from transformers->-r /content/ABBYY_HW_NLP/WiC/requirements.txt (line 5)) (20.9)\n",
            "Collecting threadpoolctl>=2.0.0\n",
            "  Downloading https://files.pythonhosted.org/packages/f7/12/ec3f2e203afa394a149911729357aa48affc59c20e2c1c8297a60f33f133/threadpoolctl-2.1.0-py3-none-any.whl\n",
            "Requirement already satisfied, skipping upgrade: joblib>=0.11 in /usr/local/lib/python3.7/dist-packages (from scikit-learn->-r /content/ABBYY_HW_NLP/WiC/requirements.txt (line 7)) (1.0.1)\n",
            "Requirement already satisfied, skipping upgrade: scipy>=0.19.1 in /usr/local/lib/python3.7/dist-packages (from scikit-learn->-r /content/ABBYY_HW_NLP/WiC/requirements.txt (line 7)) (1.4.1)\n",
            "Requirement already satisfied, skipping upgrade: chardet<4,>=3.0.2 in /usr/local/lib/python3.7/dist-packages (from requests->torchtext==0.8.1->-r /content/ABBYY_HW_NLP/WiC/requirements.txt (line 1)) (3.0.4)\n",
            "Requirement already satisfied, skipping upgrade: urllib3!=1.25.0,!=1.25.1,<1.26,>=1.21.1 in /usr/local/lib/python3.7/dist-packages (from requests->torchtext==0.8.1->-r /content/ABBYY_HW_NLP/WiC/requirements.txt (line 1)) (1.24.3)\n",
            "Requirement already satisfied, skipping upgrade: certifi>=2017.4.17 in /usr/local/lib/python3.7/dist-packages (from requests->torchtext==0.8.1->-r /content/ABBYY_HW_NLP/WiC/requirements.txt (line 1)) (2020.12.5)\n",
            "Requirement already satisfied, skipping upgrade: idna<3,>=2.5 in /usr/local/lib/python3.7/dist-packages (from requests->torchtext==0.8.1->-r /content/ABBYY_HW_NLP/WiC/requirements.txt (line 1)) (2.10)\n",
            "Collecting aiohttp; extra == \"http\"\n",
            "\u001b[?25l  Downloading https://files.pythonhosted.org/packages/88/c0/5890b4c8b04a79b7360e8fe4490feb0bb3ab179743f199f0e6220cebd568/aiohttp-3.7.4.post0-cp37-cp37m-manylinux2014_x86_64.whl (1.3MB)\n",
            "\u001b[K     |████████████████████████████████| 1.3MB 42.7MB/s \n",
            "\u001b[?25hRequirement already satisfied, skipping upgrade: six>=1.10.0 in /usr/local/lib/python3.7/dist-packages (from tensorboard>=2.2.0->pytorch-lightning==1.1.6->-r /content/ABBYY_HW_NLP/WiC/requirements.txt (line 4)) (1.15.0)\n",
            "Requirement already satisfied, skipping upgrade: absl-py>=0.4 in /usr/local/lib/python3.7/dist-packages (from tensorboard>=2.2.0->pytorch-lightning==1.1.6->-r /content/ABBYY_HW_NLP/WiC/requirements.txt (line 4)) (0.12.0)\n",
            "Requirement already satisfied, skipping upgrade: werkzeug>=0.11.15 in /usr/local/lib/python3.7/dist-packages (from tensorboard>=2.2.0->pytorch-lightning==1.1.6->-r /content/ABBYY_HW_NLP/WiC/requirements.txt (line 4)) (1.0.1)\n",
            "Requirement already satisfied, skipping upgrade: google-auth-oauthlib<0.5,>=0.4.1 in /usr/local/lib/python3.7/dist-packages (from tensorboard>=2.2.0->pytorch-lightning==1.1.6->-r /content/ABBYY_HW_NLP/WiC/requirements.txt (line 4)) (0.4.4)\n",
            "Requirement already satisfied, skipping upgrade: grpcio>=1.24.3 in /usr/local/lib/python3.7/dist-packages (from tensorboard>=2.2.0->pytorch-lightning==1.1.6->-r /content/ABBYY_HW_NLP/WiC/requirements.txt (line 4)) (1.32.0)\n",
            "Requirement already satisfied, skipping upgrade: google-auth<2,>=1.6.3 in /usr/local/lib/python3.7/dist-packages (from tensorboard>=2.2.0->pytorch-lightning==1.1.6->-r /content/ABBYY_HW_NLP/WiC/requirements.txt (line 4)) (1.30.0)\n",
            "Requirement already satisfied, skipping upgrade: setuptools>=41.0.0 in /usr/local/lib/python3.7/dist-packages (from tensorboard>=2.2.0->pytorch-lightning==1.1.6->-r /content/ABBYY_HW_NLP/WiC/requirements.txt (line 4)) (56.1.0)\n",
            "Requirement already satisfied, skipping upgrade: markdown>=2.6.8 in /usr/local/lib/python3.7/dist-packages (from tensorboard>=2.2.0->pytorch-lightning==1.1.6->-r /content/ABBYY_HW_NLP/WiC/requirements.txt (line 4)) (3.3.4)\n",
            "Requirement already satisfied, skipping upgrade: protobuf>=3.6.0 in /usr/local/lib/python3.7/dist-packages (from tensorboard>=2.2.0->pytorch-lightning==1.1.6->-r /content/ABBYY_HW_NLP/WiC/requirements.txt (line 4)) (3.12.4)\n",
            "Requirement already satisfied, skipping upgrade: tensorboard-plugin-wit>=1.6.0 in /usr/local/lib/python3.7/dist-packages (from tensorboard>=2.2.0->pytorch-lightning==1.1.6->-r /content/ABBYY_HW_NLP/WiC/requirements.txt (line 4)) (1.8.0)\n",
            "Requirement already satisfied, skipping upgrade: wheel>=0.26; python_version >= \"3\" in /usr/local/lib/python3.7/dist-packages (from tensorboard>=2.2.0->pytorch-lightning==1.1.6->-r /content/ABBYY_HW_NLP/WiC/requirements.txt (line 4)) (0.36.2)\n",
            "Requirement already satisfied, skipping upgrade: click in /usr/local/lib/python3.7/dist-packages (from sacremoses->transformers->-r /content/ABBYY_HW_NLP/WiC/requirements.txt (line 5)) (7.1.2)\n",
            "Requirement already satisfied, skipping upgrade: zipp>=0.5 in /usr/local/lib/python3.7/dist-packages (from importlib-metadata; python_version < \"3.8\"->transformers->-r /content/ABBYY_HW_NLP/WiC/requirements.txt (line 5)) (3.4.1)\n",
            "Requirement already satisfied, skipping upgrade: pyparsing>=2.0.2 in /usr/local/lib/python3.7/dist-packages (from packaging->transformers->-r /content/ABBYY_HW_NLP/WiC/requirements.txt (line 5)) (2.4.7)\n",
            "Collecting async-timeout<4.0,>=3.0\n",
            "  Downloading https://files.pythonhosted.org/packages/e1/1e/5a4441be21b0726c4464f3f23c8b19628372f606755a9d2e46c187e65ec4/async_timeout-3.0.1-py3-none-any.whl\n",
            "Requirement already satisfied, skipping upgrade: attrs>=17.3.0 in /usr/local/lib/python3.7/dist-packages (from aiohttp; extra == \"http\"->fsspec[http]>=0.8.1->pytorch-lightning==1.1.6->-r /content/ABBYY_HW_NLP/WiC/requirements.txt (line 4)) (21.2.0)\n",
            "Collecting yarl<2.0,>=1.0\n",
            "\u001b[?25l  Downloading https://files.pythonhosted.org/packages/f1/62/046834c5fc998c88ab2ef722f5d42122230a632212c8afa76418324f53ff/yarl-1.6.3-cp37-cp37m-manylinux2014_x86_64.whl (294kB)\n",
            "\u001b[K     |████████████████████████████████| 296kB 52.2MB/s \n",
            "\u001b[?25hCollecting multidict<7.0,>=4.5\n",
            "\u001b[?25l  Downloading https://files.pythonhosted.org/packages/7c/a6/4123b8165acbe773d1a8dc8e3f0d1edea16d29f7de018eda769abb56bd30/multidict-5.1.0-cp37-cp37m-manylinux2014_x86_64.whl (142kB)\n",
            "\u001b[K     |████████████████████████████████| 143kB 53.4MB/s \n",
            "\u001b[?25hRequirement already satisfied, skipping upgrade: requests-oauthlib>=0.7.0 in /usr/local/lib/python3.7/dist-packages (from google-auth-oauthlib<0.5,>=0.4.1->tensorboard>=2.2.0->pytorch-lightning==1.1.6->-r /content/ABBYY_HW_NLP/WiC/requirements.txt (line 4)) (1.3.0)\n",
            "Requirement already satisfied, skipping upgrade: pyasn1-modules>=0.2.1 in /usr/local/lib/python3.7/dist-packages (from google-auth<2,>=1.6.3->tensorboard>=2.2.0->pytorch-lightning==1.1.6->-r /content/ABBYY_HW_NLP/WiC/requirements.txt (line 4)) (0.2.8)\n",
            "Requirement already satisfied, skipping upgrade: rsa<5,>=3.1.4; python_version >= \"3.6\" in /usr/local/lib/python3.7/dist-packages (from google-auth<2,>=1.6.3->tensorboard>=2.2.0->pytorch-lightning==1.1.6->-r /content/ABBYY_HW_NLP/WiC/requirements.txt (line 4)) (4.7.2)\n",
            "Requirement already satisfied, skipping upgrade: cachetools<5.0,>=2.0.0 in /usr/local/lib/python3.7/dist-packages (from google-auth<2,>=1.6.3->tensorboard>=2.2.0->pytorch-lightning==1.1.6->-r /content/ABBYY_HW_NLP/WiC/requirements.txt (line 4)) (4.2.2)\n",
            "Requirement already satisfied, skipping upgrade: oauthlib>=3.0.0 in /usr/local/lib/python3.7/dist-packages (from requests-oauthlib>=0.7.0->google-auth-oauthlib<0.5,>=0.4.1->tensorboard>=2.2.0->pytorch-lightning==1.1.6->-r /content/ABBYY_HW_NLP/WiC/requirements.txt (line 4)) (3.1.0)\n",
            "Requirement already satisfied, skipping upgrade: pyasn1<0.5.0,>=0.4.6 in /usr/local/lib/python3.7/dist-packages (from pyasn1-modules>=0.2.1->google-auth<2,>=1.6.3->tensorboard>=2.2.0->pytorch-lightning==1.1.6->-r /content/ABBYY_HW_NLP/WiC/requirements.txt (line 4)) (0.4.8)\n",
            "Building wheels for collected packages: PyYAML, future\n",
            "  Building wheel for PyYAML (setup.py) ... \u001b[?25l\u001b[?25hdone\n",
            "  Created wheel for PyYAML: filename=PyYAML-5.3.1-cp37-cp37m-linux_x86_64.whl size=44620 sha256=844d2877764e70d6f054cb3badeafaf9aa4d3043c5deaf4238fbc3c0154040eb\n",
            "  Stored in directory: /root/.cache/pip/wheels/a7/c1/ea/cf5bd31012e735dc1dfea3131a2d5eae7978b251083d6247bd\n",
            "  Building wheel for future (setup.py) ... \u001b[?25l\u001b[?25hdone\n",
            "  Created wheel for future: filename=future-0.18.2-cp37-none-any.whl size=491058 sha256=178e2e6b99d2fceccac1d29cadeebf55e583aca078f033224611f9aac10b974f\n",
            "  Stored in directory: /root/.cache/pip/wheels/8b/99/a0/81daf51dcd359a9377b110a8a886b3895921802d2fc1b2397e\n",
            "Successfully built PyYAML future\n",
            "Installing collected packages: torch, torchtext, torchvision, PyYAML, future, async-timeout, multidict, yarl, aiohttp, fsspec, pytorch-lightning, huggingface-hub, tokenizers, sacremoses, transformers, sentencepiece, threadpoolctl, scikit-learn\n",
            "  Found existing installation: torch 1.8.1+cu101\n",
            "    Uninstalling torch-1.8.1+cu101:\n",
            "      Successfully uninstalled torch-1.8.1+cu101\n",
            "  Found existing installation: torchtext 0.9.1\n",
            "    Uninstalling torchtext-0.9.1:\n",
            "      Successfully uninstalled torchtext-0.9.1\n",
            "  Found existing installation: torchvision 0.9.1+cu101\n",
            "    Uninstalling torchvision-0.9.1+cu101:\n",
            "      Successfully uninstalled torchvision-0.9.1+cu101\n",
            "  Found existing installation: PyYAML 3.13\n",
            "    Uninstalling PyYAML-3.13:\n",
            "      Successfully uninstalled PyYAML-3.13\n",
            "  Found existing installation: future 0.16.0\n",
            "    Uninstalling future-0.16.0:\n",
            "      Successfully uninstalled future-0.16.0\n",
            "  Found existing installation: scikit-learn 0.22.2.post1\n",
            "    Uninstalling scikit-learn-0.22.2.post1:\n",
            "      Successfully uninstalled scikit-learn-0.22.2.post1\n",
            "Successfully installed PyYAML-5.3.1 aiohttp-3.7.4.post0 async-timeout-3.0.1 fsspec-2021.4.0 future-0.18.2 huggingface-hub-0.0.8 multidict-5.1.0 pytorch-lightning-1.1.6 sacremoses-0.0.45 scikit-learn-0.24.2 sentencepiece-0.1.95 threadpoolctl-2.1.0 tokenizers-0.10.2 torch-1.7.1 torchtext-0.8.1 torchvision-0.8.2 transformers-4.6.0 yarl-1.6.3\n"
          ],
          "name": "stdout"
        }
      ]
    },
    {
      "cell_type": "code",
      "metadata": {
        "id": "J-ZswU6cjkG4"
      },
      "source": [
        "import warnings\n",
        "warnings.filterwarnings('ignore')\n",
        "\n",
        "import os\n",
        "import torch\n",
        "import random\n",
        "import numpy as np\n",
        "import json\n",
        "import pandas as pd\n",
        "from sklearn.model_selection import train_test_split\n",
        "from sklearn.metrics import accuracy_score\n",
        "\n",
        "import torch\n",
        "from torch.utils.data import Dataset, RandomSampler, DataLoader\n",
        "from torch import nn\n",
        "from torch.nn import functional as F\n",
        "\n",
        "\n",
        "from transformers import BertModel, AdamW, get_linear_schedule_with_warmup, AutoModel\n",
        "from transformers import BertTokenizerFast\n"
      ],
      "execution_count": 3,
      "outputs": []
    },
    {
      "cell_type": "code",
      "metadata": {
        "id": "EQvP5Eq1brSH"
      },
      "source": [
        "from ABBYY_HW_NLP.WiC.DataModule.custom_dataset import *\n",
        "from ABBYY_HW_NLP.WiC.DataModule.utils import *"
      ],
      "execution_count": 4,
      "outputs": []
    },
    {
      "cell_type": "code",
      "metadata": {
        "id": "7f1im5S2NU1b"
      },
      "source": [
        "def seed_everything(seed=42):\n",
        "    random.seed(seed)\n",
        "    os.environ['PYTHONHASHSEED'] = str(seed)\n",
        "    np.random.seed(seed)\n",
        "    torch.manual_seed(seed)\n",
        "    torch.cuda.manual_seed(seed)\n",
        "    torch.cuda.manual_seed_all(seed)\n",
        "    torch.backends.cudnn.deterministic = True\n",
        "    torch.backends.cudnn.benchmark = False\n",
        "\n",
        "seed_everything(42)"
      ],
      "execution_count": 5,
      "outputs": []
    },
    {
      "cell_type": "markdown",
      "metadata": {
        "id": "wj68hMfmBrHt"
      },
      "source": [
        "### Скачиваем данные с гитхаба соревнования"
      ]
    },
    {
      "cell_type": "code",
      "metadata": {
        "colab": {
          "base_uri": "https://localhost:8080/"
        },
        "id": "RpSfy1GSm6BL",
        "outputId": "c31e19fb-ce66-40b7-b674-155d1aba3cce"
      },
      "source": [
        "!mkdir data && git clone https://github.com/SapienzaNLP/mcl-wic.git data && cd data && unzip 'SemEval-2021_MCL-WiC_all-datasets.zip'  && mv 'SemEval-2021_MCL-WiC_test-gold-data.zip' 'MCL-WiC/test' && cd MCL-WiC/test && unzip 'SemEval-2021_MCL-WiC_test-gold-data.zip' && rm *.zip && cd ../.. && rm *.zip && ls\n"
      ],
      "execution_count": 6,
      "outputs": [
        {
          "output_type": "stream",
          "text": [
            "Cloning into 'data'...\n",
            "remote: Enumerating objects: 188, done.\u001b[K\n",
            "remote: Counting objects: 100% (92/92), done.\u001b[K\n",
            "remote: Compressing objects: 100% (92/92), done.\u001b[K\n",
            "remote: Total 188 (delta 41), reused 0 (delta 0), pack-reused 96\u001b[K\n",
            "Receiving objects: 100% (188/188), 7.59 MiB | 30.60 MiB/s, done.\n",
            "Resolving deltas: 100% (68/68), done.\n",
            "Archive:  SemEval-2021_MCL-WiC_all-datasets.zip\n",
            "   creating: MCL-WiC/\n",
            "   creating: MCL-WiC/training/\n",
            "  inflating: MCL-WiC/training/training.en-en.data  \n",
            "  inflating: MCL-WiC/training/training.en-en.gold  \n",
            "  inflating: MCL-WiC/README.txt      \n",
            "   creating: MCL-WiC/test/\n",
            "   creating: MCL-WiC/test/crosslingual/\n",
            "  inflating: MCL-WiC/test/crosslingual/test.en-ar.data  \n",
            "  inflating: MCL-WiC/test/crosslingual/test.en-zh.data  \n",
            "  inflating: MCL-WiC/test/crosslingual/test.en-ru.data  \n",
            "  inflating: MCL-WiC/test/crosslingual/test.en-fr.data  \n",
            "   creating: MCL-WiC/test/multilingual/\n",
            "  inflating: MCL-WiC/test/multilingual/test.fr-fr.data  \n",
            "  inflating: MCL-WiC/test/multilingual/test.en-en.data  \n",
            "  inflating: MCL-WiC/test/multilingual/test.ar-ar.data  \n",
            "  inflating: MCL-WiC/test/multilingual/test.ru-ru.data  \n",
            "  inflating: MCL-WiC/test/multilingual/test.zh-zh.data  \n",
            "   creating: MCL-WiC/dev/\n",
            "   creating: MCL-WiC/dev/multilingual/\n",
            "  inflating: MCL-WiC/dev/multilingual/dev.zh-zh.gold  \n",
            "  inflating: MCL-WiC/dev/multilingual/dev.en-en.gold  \n",
            "  inflating: MCL-WiC/dev/multilingual/dev.ar-ar.gold  \n",
            "  inflating: MCL-WiC/dev/multilingual/dev.zh-zh.data  \n",
            "  inflating: MCL-WiC/dev/multilingual/dev.ru-ru.gold  \n",
            "  inflating: MCL-WiC/dev/multilingual/dev.fr-fr.gold  \n",
            "  inflating: MCL-WiC/dev/multilingual/dev.ru-ru.data  \n",
            "  inflating: MCL-WiC/dev/multilingual/dev.fr-fr.data  \n",
            "  inflating: MCL-WiC/dev/multilingual/dev.ar-ar.data  \n",
            "  inflating: MCL-WiC/dev/multilingual/dev.en-en.data  \n",
            "  inflating: MCL-WiC/LICENSE.txt     \n",
            "Archive:  SemEval-2021_MCL-WiC_test-gold-data.zip\n",
            "  inflating: test.ar-ar.gold         \n",
            "  inflating: test.en-ar.gold         \n",
            "  inflating: test.en-en.gold         \n",
            "  inflating: test.en-fr.gold         \n",
            "  inflating: test.en-ru.gold         \n",
            "  inflating: test.en-zh.gold         \n",
            "  inflating: test.fr-fr.gold         \n",
            "  inflating: test.ru-ru.gold         \n",
            "  inflating: test.zh-zh.gold         \n",
            "MCL-WiC  README.md\n"
          ],
          "name": "stdout"
        }
      ]
    },
    {
      "cell_type": "code",
      "metadata": {
        "colab": {
          "base_uri": "https://localhost:8080/"
        },
        "id": "3A392MhYo5EK",
        "outputId": "2c286244-4900-48b8-cfb2-aa1de14067c4"
      },
      "source": [
        "df_train_wic = read_train_data('data/MCL-WiC/training/training.en-en.data', True)\n",
        "df_dev_wic = read_train_data('data/MCL-WiC/dev/multilingual/dev.en-en.data', True)\n",
        "df_test_wic = read_train_data('data/MCL-WiC/test/multilingual/test.en-en.data', True)\n",
        "print(df_train_wic.shape)\n",
        "print(df_dev_wic.shape)\n",
        "print(df_test_wic.shape)\n",
        "print(df_train_wic.head())\n",
        "print(df_dev_wic.head())\n",
        "print(df_test_wic.head())"
      ],
      "execution_count": 7,
      "outputs": [
        {
          "output_type": "stream",
          "text": [
            "(8000, 10)\n",
            "(1000, 10)\n",
            "(1000, 10)\n",
            "                 id   lemma   pos  ... start2 end2 tag\n",
            "0  training.en-en.0    play  NOUN  ...     10   14   0\n",
            "1  training.en-en.1    play  NOUN  ...    112  116   0\n",
            "2  training.en-en.2  esteem  NOUN  ...    106  112   1\n",
            "3  training.en-en.3  esteem  NOUN  ...     20   26   1\n",
            "4  training.en-en.4  holder  NOUN  ...     27   33   1\n",
            "\n",
            "[5 rows x 10 columns]\n",
            "            id         lemma   pos  ... start2 end2 tag\n",
            "0  dev.en-en.0      superior  NOUN  ...     41   50   0\n",
            "1  dev.en-en.1      superior  NOUN  ...     44   53   1\n",
            "2  dev.en-en.2  acquaintance  NOUN  ...     41   54   0\n",
            "3  dev.en-en.3  acquaintance  NOUN  ...     74   86   0\n",
            "4  dev.en-en.4       baggage  NOUN  ...      6   13   1\n",
            "\n",
            "[5 rows x 10 columns]\n",
            "             id   lemma   pos  ... start2 end2 tag\n",
            "0  test.en-en.0  gently   ADV  ...     59   65   0\n",
            "1  test.en-en.1  gently   ADV  ...     72   78   0\n",
            "2  test.en-en.2    next   ADJ  ...     85   89   1\n",
            "3  test.en-en.3    next   ADJ  ...     84   88   1\n",
            "4  test.en-en.4  letter  NOUN  ...     62   68   1\n",
            "\n",
            "[5 rows x 10 columns]\n"
          ],
          "name": "stdout"
        }
      ]
    },
    {
      "cell_type": "markdown",
      "metadata": {
        "id": "KAZYdsj-B9bz"
      },
      "source": [
        "### Разбиваем по леммам"
      ]
    },
    {
      "cell_type": "code",
      "metadata": {
        "colab": {
          "base_uri": "https://localhost:8080/"
        },
        "id": "jxlHEd45PNvM",
        "outputId": "d3323efe-124e-4e0f-eea4-f274518bb8a4"
      },
      "source": [
        "global_df = pd.concat([df_train_wic, df_dev_wic], ignore_index=True)\n",
        "df_train, df_val = lemma_train_test_split(global_df)\n",
        "\n",
        "df_test = df_test_wic\n",
        "print(df_train.shape)\n",
        "print(df_val.shape)\n",
        "print(df_test.shape)\n"
      ],
      "execution_count": 8,
      "outputs": [
        {
          "output_type": "stream",
          "text": [
            "(7176, 10)\n",
            "(1824, 10)\n",
            "(1000, 10)\n"
          ],
          "name": "stdout"
        }
      ]
    },
    {
      "cell_type": "code",
      "metadata": {
        "colab": {
          "base_uri": "https://localhost:8080/"
        },
        "id": "G9SUyqJav1fh",
        "outputId": "4727b517-5a77-4280-fb48-f6ebcc188a9b"
      },
      "source": [
        "train_labels = df_train[\"tag\"].tolist()\n",
        "val_labels = df_val[\"tag\"].tolist()\n",
        "test_labels = df_test[\"tag\"].tolist()\n",
        "\n",
        "train_sentences = [(s1, s2) for s1, s2 in zip(df_train[\"sentence1\"], df_train[\"sentence2\"])]\n",
        "val_sentences = [(s1, s2) for s1, s2 in zip(df_val[\"sentence1\"], df_val[\"sentence2\"])]\n",
        "test_sentences = [(s1, s2) for s1, s2 in zip(df_test[\"sentence1\"], df_test[\"sentence2\"])]\n",
        "\n",
        "train_word_ranges = [((int(s1), int(e1)), (int(s2), int(e2))) for s1, e1, s2, e2 in zip(df_train[\"start1\"], df_train[\"end1\"], df_train[\"start2\"], df_train[\"end2\"])]\n",
        "val_word_ranges = [((int(s1), int(e1)), (int(s2), int(e2))) for s1, e1, s2, e2 in zip(df_val[\"start1\"], df_val[\"end1\"], df_val[\"start2\"], df_val[\"end2\"])]\n",
        "test_word_ranges = [((int(s1), int(e1)), (int(s2), int(e2))) for s1, e1, s2, e2 in zip(df_test[\"start1\"], df_test[\"end1\"], df_test[\"start2\"], df_test[\"end2\"])]\n",
        "\n",
        "print(train_sentences[0])\n",
        "print(train_word_ranges[0])"
      ],
      "execution_count": 9,
      "outputs": [
        {
          "output_type": "stream",
          "text": [
            "('We would also like to convey our esteem and congratulations to fraternal Lebanon and its people on the unconditional liberation of its southern part.', 'Father Lini said that, because of that, the United Nations has a very special place in the affections and esteem of the people of Vanuatu.')\n",
            "((33, 39), (106, 112))\n"
          ],
          "name": "stdout"
        }
      ]
    },
    {
      "cell_type": "markdown",
      "metadata": {
        "id": "nLndfnVL6g8N"
      },
      "source": [
        "# эксплоративный анализ данных (статистика по корпусу: сколько есть различных слов, как распределены части речи и т.д.)"
      ]
    },
    {
      "cell_type": "code",
      "metadata": {
        "colab": {
          "base_uri": "https://localhost:8080/",
          "height": 204
        },
        "id": "XuVh3MGw5xaA",
        "outputId": "d066aca7-9e24-4ad6-8801-f932482226ae"
      },
      "source": [
        "df_train_wic.head()"
      ],
      "execution_count": 10,
      "outputs": [
        {
          "output_type": "execute_result",
          "data": {
            "text/html": [
              "<div>\n",
              "<style scoped>\n",
              "    .dataframe tbody tr th:only-of-type {\n",
              "        vertical-align: middle;\n",
              "    }\n",
              "\n",
              "    .dataframe tbody tr th {\n",
              "        vertical-align: top;\n",
              "    }\n",
              "\n",
              "    .dataframe thead th {\n",
              "        text-align: right;\n",
              "    }\n",
              "</style>\n",
              "<table border=\"1\" class=\"dataframe\">\n",
              "  <thead>\n",
              "    <tr style=\"text-align: right;\">\n",
              "      <th></th>\n",
              "      <th>id</th>\n",
              "      <th>lemma</th>\n",
              "      <th>pos</th>\n",
              "      <th>sentence1</th>\n",
              "      <th>sentence2</th>\n",
              "      <th>start1</th>\n",
              "      <th>end1</th>\n",
              "      <th>start2</th>\n",
              "      <th>end2</th>\n",
              "      <th>tag</th>\n",
              "    </tr>\n",
              "  </thead>\n",
              "  <tbody>\n",
              "    <tr>\n",
              "      <th>0</th>\n",
              "      <td>training.en-en.0</td>\n",
              "      <td>play</td>\n",
              "      <td>NOUN</td>\n",
              "      <td>In that context of coordination and integratio...</td>\n",
              "      <td>A musical play on the same subject was also st...</td>\n",
              "      <td>69</td>\n",
              "      <td>73</td>\n",
              "      <td>10</td>\n",
              "      <td>14</td>\n",
              "      <td>0</td>\n",
              "    </tr>\n",
              "    <tr>\n",
              "      <th>1</th>\n",
              "      <td>training.en-en.1</td>\n",
              "      <td>play</td>\n",
              "      <td>NOUN</td>\n",
              "      <td>In that context of coordination and integratio...</td>\n",
              "      <td>In schools, when water is needed, it is girls ...</td>\n",
              "      <td>69</td>\n",
              "      <td>73</td>\n",
              "      <td>112</td>\n",
              "      <td>116</td>\n",
              "      <td>0</td>\n",
              "    </tr>\n",
              "    <tr>\n",
              "      <th>2</th>\n",
              "      <td>training.en-en.2</td>\n",
              "      <td>esteem</td>\n",
              "      <td>NOUN</td>\n",
              "      <td>We would also like to convey our esteem and co...</td>\n",
              "      <td>Father Lini said that, because of that, the Un...</td>\n",
              "      <td>33</td>\n",
              "      <td>39</td>\n",
              "      <td>106</td>\n",
              "      <td>112</td>\n",
              "      <td>1</td>\n",
              "    </tr>\n",
              "    <tr>\n",
              "      <th>3</th>\n",
              "      <td>training.en-en.3</td>\n",
              "      <td>esteem</td>\n",
              "      <td>NOUN</td>\n",
              "      <td>We would also like to convey our esteem and co...</td>\n",
              "      <td>This attests to the esteem and trust enjoyed b...</td>\n",
              "      <td>33</td>\n",
              "      <td>39</td>\n",
              "      <td>20</td>\n",
              "      <td>26</td>\n",
              "      <td>1</td>\n",
              "    </tr>\n",
              "    <tr>\n",
              "      <th>4</th>\n",
              "      <td>training.en-en.4</td>\n",
              "      <td>holder</td>\n",
              "      <td>NOUN</td>\n",
              "      <td>This growth is the direct result of the increa...</td>\n",
              "      <td>A person may be either the holder of an option...</td>\n",
              "      <td>74</td>\n",
              "      <td>81</td>\n",
              "      <td>27</td>\n",
              "      <td>33</td>\n",
              "      <td>1</td>\n",
              "    </tr>\n",
              "  </tbody>\n",
              "</table>\n",
              "</div>"
            ],
            "text/plain": [
              "                 id   lemma   pos  ... start2 end2 tag\n",
              "0  training.en-en.0    play  NOUN  ...     10   14   0\n",
              "1  training.en-en.1    play  NOUN  ...    112  116   0\n",
              "2  training.en-en.2  esteem  NOUN  ...    106  112   1\n",
              "3  training.en-en.3  esteem  NOUN  ...     20   26   1\n",
              "4  training.en-en.4  holder  NOUN  ...     27   33   1\n",
              "\n",
              "[5 rows x 10 columns]"
            ]
          },
          "metadata": {
            "tags": []
          },
          "execution_count": 10
        }
      ]
    },
    {
      "cell_type": "code",
      "metadata": {
        "colab": {
          "base_uri": "https://localhost:8080/"
        },
        "id": "UIeweMVU8UuM",
        "outputId": "44c43f01-9326-4c8e-ed21-2f6e2f04c054"
      },
      "source": [
        "df_train_wic.shape"
      ],
      "execution_count": 11,
      "outputs": [
        {
          "output_type": "execute_result",
          "data": {
            "text/plain": [
              "(8000, 10)"
            ]
          },
          "metadata": {
            "tags": []
          },
          "execution_count": 11
        }
      ]
    },
    {
      "cell_type": "markdown",
      "metadata": {
        "id": "g_IgLWh27yZO"
      },
      "source": [
        "## Pos distribution"
      ]
    },
    {
      "cell_type": "code",
      "metadata": {
        "id": "sqDi_oMI8Hib"
      },
      "source": [
        "from collections import Counter\n",
        "import matplotlib.pyplot as plt\n",
        "\n",
        "import json\n",
        "import numpy as np\n",
        "import pandas as pd\n",
        "import re\n",
        "\n",
        "import nltk\n",
        "from nltk.corpus import stopwords\n",
        "from functools import reduce"
      ],
      "execution_count": 12,
      "outputs": []
    },
    {
      "cell_type": "markdown",
      "metadata": {
        "id": "J5p8DBnD8HeE"
      },
      "source": [
        "### train"
      ]
    },
    {
      "cell_type": "code",
      "metadata": {
        "colab": {
          "base_uri": "https://localhost:8080/",
          "height": 299
        },
        "id": "dIr6bA7h7ati",
        "outputId": "fbd21230-dcf2-4f03-9d70-9f20c86332fa"
      },
      "source": [
        "count = Counter()\n",
        "for i in range(df_train_wic.shape[0]):\n",
        "    count[df_train_wic.iloc[i]['pos']] += 1\n",
        "\n",
        "print(count)\n",
        "plt.bar(count.keys(), count.values())"
      ],
      "execution_count": 13,
      "outputs": [
        {
          "output_type": "stream",
          "text": [
            "Counter({'NOUN': 4124, 'VERB': 2270, 'ADJ': 1430, 'ADV': 176})\n"
          ],
          "name": "stdout"
        },
        {
          "output_type": "execute_result",
          "data": {
            "text/plain": [
              "<BarContainer object of 4 artists>"
            ]
          },
          "metadata": {
            "tags": []
          },
          "execution_count": 13
        },
        {
          "output_type": "display_data",
          "data": {
            "image/png": "[encoded data removed]",
            "text/plain": [
              "<Figure size 432x288 with 1 Axes>"
            ]
          },
          "metadata": {
            "tags": [],
            "needs_background": "light"
          }
        }
      ]
    },
    {
      "cell_type": "markdown",
      "metadata": {
        "id": "23UrBM7N8JfK"
      },
      "source": [
        "### val"
      ]
    },
    {
      "cell_type": "code",
      "metadata": {
        "colab": {
          "base_uri": "https://localhost:8080/",
          "height": 299
        },
        "id": "L1OFHg528K_o",
        "outputId": "fb5a8f2f-9f16-42c8-a7af-f9ae5f791ec7"
      },
      "source": [
        "count = Counter()\n",
        "for i in range(df_dev_wic.shape[0]):\n",
        "    count[df_dev_wic.iloc[i]['pos']] += 1\n",
        "\n",
        "print(count)\n",
        "plt.bar(count.keys(), count.values())"
      ],
      "execution_count": 15,
      "outputs": [
        {
          "output_type": "stream",
          "text": [
            "Counter({'NOUN': 582, 'VERB': 246, 'ADJ': 158, 'ADV': 14})\n"
          ],
          "name": "stdout"
        },
        {
          "output_type": "execute_result",
          "data": {
            "text/plain": [
              "<BarContainer object of 4 artists>"
            ]
          },
          "metadata": {
            "tags": []
          },
          "execution_count": 15
        },
        {
          "output_type": "display_data",
          "data": {
            "image/png": "[encoded data removed]",
            "text/plain": [
              "<Figure size 432x288 with 1 Axes>"
            ]
          },
          "metadata": {
            "tags": [],
            "needs_background": "light"
          }
        }
      ]
    },
    {
      "cell_type": "markdown",
      "metadata": {
        "id": "rUuOm9SZ9b3r"
      },
      "source": [
        "## Label distribution"
      ]
    },
    {
      "cell_type": "markdown",
      "metadata": {
        "id": "mDVySCne8YcJ"
      },
      "source": [
        "### train"
      ]
    },
    {
      "cell_type": "code",
      "metadata": {
        "colab": {
          "base_uri": "https://localhost:8080/",
          "height": 462
        },
        "id": "yQLnm04J9zGf",
        "outputId": "4d3aa922-d054-46a9-c7cc-87a2f385e341"
      },
      "source": [
        "count = Counter()\n",
        "for i in range(df_train_wic.shape[0]):\n",
        "    count[str(df_train_wic.iloc[i]['tag'])] += 1\n",
        "\n",
        "print(count)\n",
        "plt.figure(figsize=(7, 7))\n",
        "plt.bar(count.keys(), count.values())    "
      ],
      "execution_count": 18,
      "outputs": [
        {
          "output_type": "stream",
          "text": [
            "Counter({'0': 4000, '1': 4000})\n"
          ],
          "name": "stdout"
        },
        {
          "output_type": "execute_result",
          "data": {
            "text/plain": [
              "<BarContainer object of 2 artists>"
            ]
          },
          "metadata": {
            "tags": []
          },
          "execution_count": 18
        },
        {
          "output_type": "display_data",
          "data": {
            "image/png": "[encoded data removed]",
            "text/plain": [
              "<Figure size 504x504 with 1 Axes>"
            ]
          },
          "metadata": {
            "tags": [],
            "needs_background": "light"
          }
        }
      ]
    },
    {
      "cell_type": "markdown",
      "metadata": {
        "id": "3SI68T1M8ZrT"
      },
      "source": [
        "### val"
      ]
    },
    {
      "cell_type": "code",
      "metadata": {
        "colab": {
          "base_uri": "https://localhost:8080/",
          "height": 462
        },
        "id": "wLx8WxOj8bsZ",
        "outputId": "1af8565c-9614-4a4c-9a9d-ddadfc0b112c"
      },
      "source": [
        "count = Counter()\n",
        "for i in range(df_dev_wic.shape[0]):\n",
        "    count[str(df_dev_wic.iloc[i]['tag'])] += 1\n",
        "\n",
        "print(count)\n",
        "plt.figure(figsize=(7, 7))\n",
        "plt.bar(count.keys(), count.values())   "
      ],
      "execution_count": 17,
      "outputs": [
        {
          "output_type": "stream",
          "text": [
            "Counter({'0': 500, '1': 500})\n"
          ],
          "name": "stdout"
        },
        {
          "output_type": "execute_result",
          "data": {
            "text/plain": [
              "<BarContainer object of 2 artists>"
            ]
          },
          "metadata": {
            "tags": []
          },
          "execution_count": 17
        },
        {
          "output_type": "display_data",
          "data": {
            "image/png": "[encoded data removed]",
            "text/plain": [
              "<Figure size 504x504 with 1 Axes>"
            ]
          },
          "metadata": {
            "tags": [],
            "needs_background": "light"
          }
        }
      ]
    },
    {
      "cell_type": "markdown",
      "metadata": {
        "id": "SDWQQvyyA9lx"
      },
      "source": [
        "## Len sentence distribution"
      ]
    },
    {
      "cell_type": "code",
      "metadata": {
        "id": "uTpquZceBOLy",
        "colab": {
          "base_uri": "https://localhost:8080/",
          "height": 164,
          "referenced_widgets": [
            "498fc2f3b6d04f21a20d6fd365a719d3",
            "9dd879086bd24afb84817d48e4a6a71d",
            "0367a1a6ea2d4ccdaa11282951765a0d",
            "54f2e071cd5348f6a1130bc186ca8cf4",
            "973aa4f617d04217a0a15d5938fac911",
            "94910261c9224edabb054dd0c4d44183",
            "199f6e3b25e749c38c56ed3912ce7757",
            "83d8931d24ea40408ca25aedfe511c6c",
            "b57226b7f8bf441fba2eea6fbae1dfe1",
            "99698a2f951748cabf3db2c31aec65e3",
            "59ad139e95c8470f90bb1bd882d86f95",
            "b9756f0aa810477181fcd0387101d1c6",
            "4199ea564d0049268fafa25bb9264e41",
            "001ad59bc6e24def82590e051a4f338f",
            "c25ba04e00194d9a80c3c27bef692507",
            "981dacd6119b4ae294c6f5c640a4b4e5",
            "244a766363e1425a8797522f6a6a22da",
            "330ff5525b7344a4924222d2baf7b2fe",
            "a37bd792e6e2430ea5dd83501230a4dc",
            "41081fd7d46f4d229105f0e56a83a33e",
            "61a3f81d33594ded9bf5059cfd5b27ef",
            "60f5502e4ee84f87a9f630a6bf29d6f4",
            "6145ecc6c72a422ba0d991602ecb319a",
            "c3e2ed29180e496084c4d8f32d02f78e"
          ]
        },
        "outputId": "018249ba-35c0-4780-8a5b-ddf39747e92e"
      },
      "source": [
        "b_tokenizer = BertTokenizerFast.from_pretrained(\"bert-large-cased\")"
      ],
      "execution_count": 20,
      "outputs": [
        {
          "output_type": "display_data",
          "data": {
            "application/vnd.jupyter.widget-view+json": {
              "model_id": "498fc2f3b6d04f21a20d6fd365a719d3",
              "version_minor": 0,
              "version_major": 2
            },
            "text/plain": [
              "HBox(children=(FloatProgress(value=0.0, description='Downloading', max=213450.0, style=ProgressStyle(descripti…"
            ]
          },
          "metadata": {
            "tags": []
          }
        },
        {
          "output_type": "stream",
          "text": [
            "\n"
          ],
          "name": "stdout"
        },
        {
          "output_type": "display_data",
          "data": {
            "application/vnd.jupyter.widget-view+json": {
              "model_id": "b57226b7f8bf441fba2eea6fbae1dfe1",
              "version_minor": 0,
              "version_major": 2
            },
            "text/plain": [
              "HBox(children=(FloatProgress(value=0.0, description='Downloading', max=435797.0, style=ProgressStyle(descripti…"
            ]
          },
          "metadata": {
            "tags": []
          }
        },
        {
          "output_type": "stream",
          "text": [
            "\n"
          ],
          "name": "stdout"
        },
        {
          "output_type": "display_data",
          "data": {
            "application/vnd.jupyter.widget-view+json": {
              "model_id": "244a766363e1425a8797522f6a6a22da",
              "version_minor": 0,
              "version_major": 2
            },
            "text/plain": [
              "HBox(children=(FloatProgress(value=0.0, description='Downloading', max=29.0, style=ProgressStyle(description_w…"
            ]
          },
          "metadata": {
            "tags": []
          }
        },
        {
          "output_type": "stream",
          "text": [
            "\n"
          ],
          "name": "stdout"
        }
      ]
    },
    {
      "cell_type": "code",
      "metadata": {
        "id": "fC3c-3dJCKNn"
      },
      "source": [
        "def len_eda(lengths_data):\n",
        "    print(f'max: {max(lengths_data)}')\n",
        "    print(f'min: {min(lengths_data)}')\n",
        "    print(f'median: {np.quantile(lengths_data, 0.5)}')\n",
        "    print(f'90q: {np.quantile(lengths_data, 0.9)}')\n",
        "    print(f'99q: {np.quantile(lengths_data, 0.99)}')"
      ],
      "execution_count": 21,
      "outputs": []
    },
    {
      "cell_type": "markdown",
      "metadata": {
        "id": "pAXCqOI88i7G"
      },
      "source": [
        "### train"
      ]
    },
    {
      "cell_type": "code",
      "metadata": {
        "colab": {
          "base_uri": "https://localhost:8080/"
        },
        "id": "voowsTbI-H9G",
        "outputId": "25ffd29b-6430-4f4b-9a4d-59c24d4e62ca"
      },
      "source": [
        "sentence_tokenize = lambda x: len(b_tokenizer.tokenize(x))\n",
        "len_sentence_1 = [sentence_tokenize(df_train_wic.iloc[i]['sentence1']) for i in range(df_train_wic.shape[0])]\n",
        "\n",
        "len_sentence_2 = [sentence_tokenize(df_train_wic.iloc[i]['sentence2']) for i in range(df_train_wic.shape[0])]\n",
        "\n",
        "print('-'*7, 'sentence_1', '-'*7)\n",
        "len_eda(len_sentence_1)\n",
        "print('-'*7, 'sentence_2', '-'*7)\n",
        "len_eda(len_sentence_2)"
      ],
      "execution_count": 22,
      "outputs": [
        {
          "output_type": "stream",
          "text": [
            "------- sentence_1 -------\n",
            "max: 89\n",
            "min: 8\n",
            "median: 28.0\n",
            "90q: 46.0\n",
            "99q: 67.0\n",
            "------- sentence_2 -------\n",
            "max: 101\n",
            "min: 8\n",
            "median: 28.0\n",
            "90q: 46.0\n",
            "99q: 66.0\n"
          ],
          "name": "stdout"
        }
      ]
    },
    {
      "cell_type": "markdown",
      "metadata": {
        "id": "30Hp7nUn8kVk"
      },
      "source": [
        "### val"
      ]
    },
    {
      "cell_type": "code",
      "metadata": {
        "id": "Znw_G0Cc4A0d",
        "colab": {
          "base_uri": "https://localhost:8080/"
        },
        "outputId": "93d9d156-0f6b-40bc-c014-9b8f39e4000b"
      },
      "source": [
        "sentence_tokenize = lambda x: len(b_tokenizer.tokenize(x))\n",
        "len_sentence_1 = [sentence_tokenize(df_dev_wic.iloc[i]['sentence1']) for i in range(df_dev_wic.shape[0])]\n",
        "\n",
        "len_sentence_2 = [sentence_tokenize(df_dev_wic.iloc[i]['sentence2']) for i in range(df_dev_wic.shape[0])]\n",
        "\n",
        "print('-'*7, 'sentence_1', '-'*7)\n",
        "len_eda(len_sentence_1)\n",
        "print('-'*7, 'sentence_2', '-'*7)\n",
        "len_eda(len_sentence_2)"
      ],
      "execution_count": 23,
      "outputs": [
        {
          "output_type": "stream",
          "text": [
            "------- sentence_1 -------\n",
            "max: 80\n",
            "min: 9\n",
            "median: 27.0\n",
            "90q: 41.0\n",
            "99q: 62.00999999999999\n",
            "------- sentence_2 -------\n",
            "max: 75\n",
            "min: 10\n",
            "median: 27.0\n",
            "90q: 43.0\n",
            "99q: 59.0\n"
          ],
          "name": "stdout"
        }
      ]
    },
    {
      "cell_type": "code",
      "metadata": {
        "id": "jhOcuM_A8zMv"
      },
      "source": [
        ""
      ],
      "execution_count": null,
      "outputs": []
    }
  ]
}